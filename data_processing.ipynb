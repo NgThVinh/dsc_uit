{
 "cells": [
  {
   "cell_type": "code",
   "execution_count": 49,
   "metadata": {},
   "outputs": [],
   "source": [
    "from transformers import AutoModelForSeq2SeqLM, AutoTokenizer\n",
    "from datasets import Dataset, load_dataset, concatenate_datasets, load_from_disk\n",
    "import pandas as pd"
   ]
  },
  {
   "cell_type": "code",
   "execution_count": 50,
   "metadata": {},
   "outputs": [
    {
     "data": {
      "text/plain": [
       "DatasetDict({\n",
       "    train: Dataset({\n",
       "        features: ['id', 'title', 'context', 'question', 'answers'],\n",
       "        num_rows: 130319\n",
       "    })\n",
       "    validation: Dataset({\n",
       "        features: ['id', 'title', 'context', 'question', 'answers'],\n",
       "        num_rows: 11873\n",
       "    })\n",
       "})"
      ]
     },
     "execution_count": 50,
     "metadata": {},
     "output_type": "execute_result"
    }
   ],
   "source": [
    "raw_dataset = load_dataset(\"squad_v2\")\n",
    "raw_dataset"
   ]
  },
  {
   "cell_type": "code",
   "execution_count": 51,
   "metadata": {},
   "outputs": [
    {
     "data": {
      "text/plain": [
       "{'id': '56be85543aeaaa14008c9063',\n",
       " 'title': 'Beyoncé',\n",
       " 'context': 'Beyoncé Giselle Knowles-Carter (/biːˈjɒnseɪ/ bee-YON-say) (born September 4, 1981) is an American singer, songwriter, record producer and actress. Born and raised in Houston, Texas, she performed in various singing and dancing competitions as a child, and rose to fame in the late 1990s as lead singer of R&B girl-group Destiny\\'s Child. Managed by her father, Mathew Knowles, the group became one of the world\\'s best-selling girl groups of all time. Their hiatus saw the release of Beyoncé\\'s debut album, Dangerously in Love (2003), which established her as a solo artist worldwide, earned five Grammy Awards and featured the Billboard Hot 100 number-one singles \"Crazy in Love\" and \"Baby Boy\".',\n",
       " 'question': 'When did Beyonce start becoming popular?',\n",
       " 'answers': {'text': ['in the late 1990s'], 'answer_start': [269]}}"
      ]
     },
     "execution_count": 51,
     "metadata": {},
     "output_type": "execute_result"
    }
   ],
   "source": [
    "raw_dataset[\"train\"][0]"
   ]
  },
  {
   "cell_type": "code",
   "execution_count": 52,
   "metadata": {},
   "outputs": [
    {
     "data": {
      "text/plain": [
       "['Beyoncé Giselle Knowles-Carter (/biːˈjɒnseɪ/ bee-YON-say) (born September 4, 1981) is an American singer, songwriter, record producer and actress. Born and raised in Houston, Texas, she performed in various singing and dancing competitions as a child, and rose to fame in the late 1990s as lead singer of R&B girl-group Destiny\\'s Child. Managed by her father, Mathew Knowles, the group became one of the world\\'s best-selling girl groups of all time. Their hiatus saw the release of Beyoncé\\'s debut album, Dangerously in Love (2003), which established her as a solo artist worldwide, earned five Grammy Awards and featured the Billboard Hot 100 number-one singles \"Crazy in Love\" and \"Baby Boy\".',\n",
       " 'Beyoncé Giselle Knowles-Carter (/biːˈjɒnseɪ/ bee-YON-say) (born September 4, 1981) is an American singer, songwriter, record producer and actress. Born and raised in Houston, Texas, she performed in various singing and dancing competitions as a child, and rose to fame in the late 1990s as lead singer of R&B girl-group Destiny\\'s Child. Managed by her father, Mathew Knowles, the group became one of the world\\'s best-selling girl groups of all time. Their hiatus saw the release of Beyoncé\\'s debut album, Dangerously in Love (2003), which established her as a solo artist worldwide, earned five Grammy Awards and featured the Billboard Hot 100 number-one singles \"Crazy in Love\" and \"Baby Boy\".',\n",
       " 'Beyoncé Giselle Knowles-Carter (/biːˈjɒnseɪ/ bee-YON-say) (born September 4, 1981) is an American singer, songwriter, record producer and actress. Born and raised in Houston, Texas, she performed in various singing and dancing competitions as a child, and rose to fame in the late 1990s as lead singer of R&B girl-group Destiny\\'s Child. Managed by her father, Mathew Knowles, the group became one of the world\\'s best-selling girl groups of all time. Their hiatus saw the release of Beyoncé\\'s debut album, Dangerously in Love (2003), which established her as a solo artist worldwide, earned five Grammy Awards and featured the Billboard Hot 100 number-one singles \"Crazy in Love\" and \"Baby Boy\".',\n",
       " 'Beyoncé Giselle Knowles-Carter (/biːˈjɒnseɪ/ bee-YON-say) (born September 4, 1981) is an American singer, songwriter, record producer and actress. Born and raised in Houston, Texas, she performed in various singing and dancing competitions as a child, and rose to fame in the late 1990s as lead singer of R&B girl-group Destiny\\'s Child. Managed by her father, Mathew Knowles, the group became one of the world\\'s best-selling girl groups of all time. Their hiatus saw the release of Beyoncé\\'s debut album, Dangerously in Love (2003), which established her as a solo artist worldwide, earned five Grammy Awards and featured the Billboard Hot 100 number-one singles \"Crazy in Love\" and \"Baby Boy\".',\n",
       " 'Beyoncé Giselle Knowles-Carter (/biːˈjɒnseɪ/ bee-YON-say) (born September 4, 1981) is an American singer, songwriter, record producer and actress. Born and raised in Houston, Texas, she performed in various singing and dancing competitions as a child, and rose to fame in the late 1990s as lead singer of R&B girl-group Destiny\\'s Child. Managed by her father, Mathew Knowles, the group became one of the world\\'s best-selling girl groups of all time. Their hiatus saw the release of Beyoncé\\'s debut album, Dangerously in Love (2003), which established her as a solo artist worldwide, earned five Grammy Awards and featured the Billboard Hot 100 number-one singles \"Crazy in Love\" and \"Baby Boy\".']"
      ]
     },
     "execution_count": 52,
     "metadata": {},
     "output_type": "execute_result"
    }
   ],
   "source": [
    "raw_dataset[\"train\"][\"context\"][:5]"
   ]
  },
  {
   "cell_type": "code",
   "execution_count": 100,
   "metadata": {},
   "outputs": [
    {
     "data": {
      "text/plain": [
       "Dataset({\n",
       "    features: ['id', 'title', 'context', 'question', 'answers'],\n",
       "    num_rows: 142192\n",
       "})"
      ]
     },
     "execution_count": 100,
     "metadata": {},
     "output_type": "execute_result"
    }
   ],
   "source": [
    "merged_data = concatenate_datasets([raw_dataset[\"train\"], raw_dataset[\"validation\"]])\n",
    "merged_data"
   ]
  },
  {
   "cell_type": "code",
   "execution_count": 101,
   "metadata": {},
   "outputs": [],
   "source": [
    "merged_data = merged_data.remove_columns([\"id\", \"title\"])"
   ]
  },
  {
   "cell_type": "code",
   "execution_count": 102,
   "metadata": {},
   "outputs": [
    {
     "data": {
      "text/plain": [
       "142192"
      ]
     },
     "execution_count": 102,
     "metadata": {},
     "output_type": "execute_result"
    }
   ],
   "source": [
    "merged_data.num_rows"
   ]
  },
  {
   "cell_type": "code",
   "execution_count": 111,
   "metadata": {},
   "outputs": [
    {
     "data": {
      "text/html": [
       "<div>\n",
       "<style scoped>\n",
       "    .dataframe tbody tr th:only-of-type {\n",
       "        vertical-align: middle;\n",
       "    }\n",
       "\n",
       "    .dataframe tbody tr th {\n",
       "        vertical-align: top;\n",
       "    }\n",
       "\n",
       "    .dataframe thead th {\n",
       "        text-align: right;\n",
       "    }\n",
       "</style>\n",
       "<table border=\"1\" class=\"dataframe\">\n",
       "  <thead>\n",
       "    <tr style=\"text-align: right;\">\n",
       "      <th></th>\n",
       "      <th>text</th>\n",
       "    </tr>\n",
       "  </thead>\n",
       "  <tbody>\n",
       "    <tr>\n",
       "      <th>0</th>\n",
       "      <td>in the late 1990s</td>\n",
       "    </tr>\n",
       "    <tr>\n",
       "      <th>1</th>\n",
       "      <td>singing and dancing</td>\n",
       "    </tr>\n",
       "    <tr>\n",
       "      <th>2</th>\n",
       "      <td>2003</td>\n",
       "    </tr>\n",
       "    <tr>\n",
       "      <th>3</th>\n",
       "      <td>Houston, Texas</td>\n",
       "    </tr>\n",
       "    <tr>\n",
       "      <th>4</th>\n",
       "      <td>late 1990s</td>\n",
       "    </tr>\n",
       "    <tr>\n",
       "      <th>...</th>\n",
       "      <td>...</td>\n",
       "    </tr>\n",
       "    <tr>\n",
       "      <th>142187</th>\n",
       "      <td>sthène sthène sthène sthène sthène</td>\n",
       "    </tr>\n",
       "    <tr>\n",
       "      <th>142188</th>\n",
       "      <td></td>\n",
       "    </tr>\n",
       "    <tr>\n",
       "      <th>142189</th>\n",
       "      <td></td>\n",
       "    </tr>\n",
       "    <tr>\n",
       "      <th>142190</th>\n",
       "      <td></td>\n",
       "    </tr>\n",
       "    <tr>\n",
       "      <th>142191</th>\n",
       "      <td></td>\n",
       "    </tr>\n",
       "  </tbody>\n",
       "</table>\n",
       "<p>142192 rows × 1 columns</p>\n",
       "</div>"
      ],
      "text/plain": [
       "                                      text\n",
       "0                        in the late 1990s\n",
       "1                      singing and dancing\n",
       "2                                     2003\n",
       "3                           Houston, Texas\n",
       "4                               late 1990s\n",
       "...                                    ...\n",
       "142187  sthène sthène sthène sthène sthène\n",
       "142188                                    \n",
       "142189                                    \n",
       "142190                                    \n",
       "142191                                    \n",
       "\n",
       "[142192 rows x 1 columns]"
      ]
     },
     "execution_count": 111,
     "metadata": {},
     "output_type": "execute_result"
    }
   ],
   "source": [
    "df = pd.DataFrame(merged_data[\"answers\"])\n",
    "df['text'] = df['text'].apply(lambda lst: ' '.join(lst))\n",
    "df = df.drop(columns=['answer_start'])\n",
    "df"
   ]
  },
  {
   "cell_type": "code",
   "execution_count": 114,
   "metadata": {},
   "outputs": [
    {
     "data": {
      "text/html": [
       "<div>\n",
       "<style scoped>\n",
       "    .dataframe tbody tr th:only-of-type {\n",
       "        vertical-align: middle;\n",
       "    }\n",
       "\n",
       "    .dataframe tbody tr th {\n",
       "        vertical-align: top;\n",
       "    }\n",
       "\n",
       "    .dataframe thead th {\n",
       "        text-align: right;\n",
       "    }\n",
       "</style>\n",
       "<table border=\"1\" class=\"dataframe\">\n",
       "  <thead>\n",
       "    <tr style=\"text-align: right;\">\n",
       "      <th></th>\n",
       "      <th>text</th>\n",
       "      <th>label</th>\n",
       "      <th>document</th>\n",
       "      <th>claim</th>\n",
       "    </tr>\n",
       "  </thead>\n",
       "  <tbody>\n",
       "    <tr>\n",
       "      <th>0</th>\n",
       "      <td>in the late 1990s</td>\n",
       "      <td>SUPPORTED</td>\n",
       "      <td>Beyoncé Giselle Knowles-Carter (/biːˈjɒnseɪ/ b...</td>\n",
       "      <td>When did Beyonce start becoming popular?in the...</td>\n",
       "    </tr>\n",
       "    <tr>\n",
       "      <th>1</th>\n",
       "      <td>singing and dancing</td>\n",
       "      <td>SUPPORTED</td>\n",
       "      <td>Beyoncé Giselle Knowles-Carter (/biːˈjɒnseɪ/ b...</td>\n",
       "      <td>What areas did Beyonce compete in when she was...</td>\n",
       "    </tr>\n",
       "    <tr>\n",
       "      <th>2</th>\n",
       "      <td>2003</td>\n",
       "      <td>SUPPORTED</td>\n",
       "      <td>Beyoncé Giselle Knowles-Carter (/biːˈjɒnseɪ/ b...</td>\n",
       "      <td>When did Beyonce leave Destiny's Child and bec...</td>\n",
       "    </tr>\n",
       "    <tr>\n",
       "      <th>3</th>\n",
       "      <td>Houston, Texas</td>\n",
       "      <td>SUPPORTED</td>\n",
       "      <td>Beyoncé Giselle Knowles-Carter (/biːˈjɒnseɪ/ b...</td>\n",
       "      <td>In what city and state did Beyonce  grow up? H...</td>\n",
       "    </tr>\n",
       "    <tr>\n",
       "      <th>4</th>\n",
       "      <td>late 1990s</td>\n",
       "      <td>SUPPORTED</td>\n",
       "      <td>Beyoncé Giselle Knowles-Carter (/biːˈjɒnseɪ/ b...</td>\n",
       "      <td>In which decade did Beyonce become famous?late...</td>\n",
       "    </tr>\n",
       "    <tr>\n",
       "      <th>...</th>\n",
       "      <td>...</td>\n",
       "      <td>...</td>\n",
       "      <td>...</td>\n",
       "      <td>...</td>\n",
       "    </tr>\n",
       "    <tr>\n",
       "      <th>142187</th>\n",
       "      <td>sthène sthène sthène sthène sthène</td>\n",
       "      <td>SUPPORTED</td>\n",
       "      <td>The pound-force has a metric counterpart, less...</td>\n",
       "      <td>What is the seldom used force unit equal to on...</td>\n",
       "    </tr>\n",
       "    <tr>\n",
       "      <th>142188</th>\n",
       "      <td></td>\n",
       "      <td>NEI</td>\n",
       "      <td>The pound-force has a metric counterpart, less...</td>\n",
       "      <td>What does not have a metric counterpart?</td>\n",
       "    </tr>\n",
       "    <tr>\n",
       "      <th>142189</th>\n",
       "      <td></td>\n",
       "      <td>NEI</td>\n",
       "      <td>The pound-force has a metric counterpart, less...</td>\n",
       "      <td>What is the force exerted by standard gravity ...</td>\n",
       "    </tr>\n",
       "    <tr>\n",
       "      <th>142190</th>\n",
       "      <td></td>\n",
       "      <td>NEI</td>\n",
       "      <td>The pound-force has a metric counterpart, less...</td>\n",
       "      <td>What force leads to a commonly used unit of mass?</td>\n",
       "    </tr>\n",
       "    <tr>\n",
       "      <th>142191</th>\n",
       "      <td></td>\n",
       "      <td>NEI</td>\n",
       "      <td>The pound-force has a metric counterpart, less...</td>\n",
       "      <td>What force is part of the modern SI system?</td>\n",
       "    </tr>\n",
       "  </tbody>\n",
       "</table>\n",
       "<p>142192 rows × 4 columns</p>\n",
       "</div>"
      ],
      "text/plain": [
       "                                      text      label  \\\n",
       "0                        in the late 1990s  SUPPORTED   \n",
       "1                      singing and dancing  SUPPORTED   \n",
       "2                                     2003  SUPPORTED   \n",
       "3                           Houston, Texas  SUPPORTED   \n",
       "4                               late 1990s  SUPPORTED   \n",
       "...                                    ...        ...   \n",
       "142187  sthène sthène sthène sthène sthène  SUPPORTED   \n",
       "142188                                            NEI   \n",
       "142189                                            NEI   \n",
       "142190                                            NEI   \n",
       "142191                                            NEI   \n",
       "\n",
       "                                                 document  \\\n",
       "0       Beyoncé Giselle Knowles-Carter (/biːˈjɒnseɪ/ b...   \n",
       "1       Beyoncé Giselle Knowles-Carter (/biːˈjɒnseɪ/ b...   \n",
       "2       Beyoncé Giselle Knowles-Carter (/biːˈjɒnseɪ/ b...   \n",
       "3       Beyoncé Giselle Knowles-Carter (/biːˈjɒnseɪ/ b...   \n",
       "4       Beyoncé Giselle Knowles-Carter (/biːˈjɒnseɪ/ b...   \n",
       "...                                                   ...   \n",
       "142187  The pound-force has a metric counterpart, less...   \n",
       "142188  The pound-force has a metric counterpart, less...   \n",
       "142189  The pound-force has a metric counterpart, less...   \n",
       "142190  The pound-force has a metric counterpart, less...   \n",
       "142191  The pound-force has a metric counterpart, less...   \n",
       "\n",
       "                                                    claim  \n",
       "0       When did Beyonce start becoming popular?in the...  \n",
       "1       What areas did Beyonce compete in when she was...  \n",
       "2       When did Beyonce leave Destiny's Child and bec...  \n",
       "3       In what city and state did Beyonce  grow up? H...  \n",
       "4       In which decade did Beyonce become famous?late...  \n",
       "...                                                   ...  \n",
       "142187  What is the seldom used force unit equal to on...  \n",
       "142188           What does not have a metric counterpart?  \n",
       "142189  What is the force exerted by standard gravity ...  \n",
       "142190  What force leads to a commonly used unit of mass?  \n",
       "142191        What force is part of the modern SI system?  \n",
       "\n",
       "[142192 rows x 4 columns]"
      ]
     },
     "execution_count": 114,
     "metadata": {},
     "output_type": "execute_result"
    }
   ],
   "source": [
    "df['label'] = df['text'].apply(lambda lst: 'SUPPORTED' if lst else 'NEI')\n",
    "df['question'] = merged_data[\"question\"]\n",
    "df['document'] = merged_data[\"context\"]\n",
    "df['claim'] = df['question'] + df['text']\n",
    "df = df.drop(columns=['question'])\n",
    "df"
   ]
  },
  {
   "cell_type": "code",
   "execution_count": 115,
   "metadata": {},
   "outputs": [
    {
     "data": {
      "text/plain": [
       "text        92749\n",
       "label       92749\n",
       "document    92749\n",
       "claim       92749\n",
       "dtype: int64"
      ]
     },
     "execution_count": 115,
     "metadata": {},
     "output_type": "execute_result"
    }
   ],
   "source": [
    "df[df['label'] == 'SUPPORTED'].count()"
   ]
  },
  {
   "cell_type": "code",
   "execution_count": 116,
   "metadata": {},
   "outputs": [
    {
     "data": {
      "text/plain": [
       "text        20154\n",
       "label       20154\n",
       "document    20154\n",
       "claim       20154\n",
       "dtype: int64"
      ]
     },
     "execution_count": 116,
     "metadata": {},
     "output_type": "execute_result"
    }
   ],
   "source": [
    "df[df['text'].str.contains(r'\\d')].count() # text with number"
   ]
  },
  {
   "cell_type": "code",
   "execution_count": 127,
   "metadata": {},
   "outputs": [
    {
     "data": {
      "text/html": [
       "<div>\n",
       "<style scoped>\n",
       "    .dataframe tbody tr th:only-of-type {\n",
       "        vertical-align: middle;\n",
       "    }\n",
       "\n",
       "    .dataframe tbody tr th {\n",
       "        vertical-align: top;\n",
       "    }\n",
       "\n",
       "    .dataframe thead th {\n",
       "        text-align: right;\n",
       "    }\n",
       "</style>\n",
       "<table border=\"1\" class=\"dataframe\">\n",
       "  <thead>\n",
       "    <tr style=\"text-align: right;\">\n",
       "      <th></th>\n",
       "      <th>text</th>\n",
       "      <th>question</th>\n",
       "      <th>document</th>\n",
       "    </tr>\n",
       "  </thead>\n",
       "  <tbody>\n",
       "    <tr>\n",
       "      <th>0</th>\n",
       "      <td>in the late 1991s</td>\n",
       "      <td>When did Beyonce start becoming popular?</td>\n",
       "      <td>Beyoncé Giselle Knowles-Carter (/biːˈjɒnseɪ/ b...</td>\n",
       "    </tr>\n",
       "    <tr>\n",
       "      <th>1</th>\n",
       "      <td>singing and dancing</td>\n",
       "      <td>What areas did Beyonce compete in when she was...</td>\n",
       "      <td>Beyoncé Giselle Knowles-Carter (/biːˈjɒnseɪ/ b...</td>\n",
       "    </tr>\n",
       "    <tr>\n",
       "      <th>2</th>\n",
       "      <td>2006</td>\n",
       "      <td>When did Beyonce leave Destiny's Child and bec...</td>\n",
       "      <td>Beyoncé Giselle Knowles-Carter (/biːˈjɒnseɪ/ b...</td>\n",
       "    </tr>\n",
       "    <tr>\n",
       "      <th>3</th>\n",
       "      <td>Houston, Texas</td>\n",
       "      <td>In what city and state did Beyonce  grow up?</td>\n",
       "      <td>Beyoncé Giselle Knowles-Carter (/biːˈjɒnseɪ/ b...</td>\n",
       "    </tr>\n",
       "    <tr>\n",
       "      <th>4</th>\n",
       "      <td>late 1993s</td>\n",
       "      <td>In which decade did Beyonce become famous?</td>\n",
       "      <td>Beyoncé Giselle Knowles-Carter (/biːˈjɒnseɪ/ b...</td>\n",
       "    </tr>\n",
       "    <tr>\n",
       "      <th>...</th>\n",
       "      <td>...</td>\n",
       "      <td>...</td>\n",
       "      <td>...</td>\n",
       "    </tr>\n",
       "    <tr>\n",
       "      <th>142187</th>\n",
       "      <td>sthène sthène sthène sthène sthène</td>\n",
       "      <td>What is the seldom used force unit equal to on...</td>\n",
       "      <td>The pound-force has a metric counterpart, less...</td>\n",
       "    </tr>\n",
       "    <tr>\n",
       "      <th>142188</th>\n",
       "      <td></td>\n",
       "      <td>What does not have a metric counterpart?</td>\n",
       "      <td>The pound-force has a metric counterpart, less...</td>\n",
       "    </tr>\n",
       "    <tr>\n",
       "      <th>142189</th>\n",
       "      <td></td>\n",
       "      <td>What is the force exerted by standard gravity ...</td>\n",
       "      <td>The pound-force has a metric counterpart, less...</td>\n",
       "    </tr>\n",
       "    <tr>\n",
       "      <th>142190</th>\n",
       "      <td></td>\n",
       "      <td>What force leads to a commonly used unit of mass?</td>\n",
       "      <td>The pound-force has a metric counterpart, less...</td>\n",
       "    </tr>\n",
       "    <tr>\n",
       "      <th>142191</th>\n",
       "      <td></td>\n",
       "      <td>What force is part of the modern SI system?</td>\n",
       "      <td>The pound-force has a metric counterpart, less...</td>\n",
       "    </tr>\n",
       "  </tbody>\n",
       "</table>\n",
       "<p>142192 rows × 3 columns</p>\n",
       "</div>"
      ],
      "text/plain": [
       "                                      text  \\\n",
       "0                        in the late 1991s   \n",
       "1                      singing and dancing   \n",
       "2                                     2006   \n",
       "3                           Houston, Texas   \n",
       "4                               late 1993s   \n",
       "...                                    ...   \n",
       "142187  sthène sthène sthène sthène sthène   \n",
       "142188                                       \n",
       "142189                                       \n",
       "142190                                       \n",
       "142191                                       \n",
       "\n",
       "                                                 question  \\\n",
       "0                When did Beyonce start becoming popular?   \n",
       "1       What areas did Beyonce compete in when she was...   \n",
       "2       When did Beyonce leave Destiny's Child and bec...   \n",
       "3           In what city and state did Beyonce  grow up?    \n",
       "4              In which decade did Beyonce become famous?   \n",
       "...                                                   ...   \n",
       "142187  What is the seldom used force unit equal to on...   \n",
       "142188           What does not have a metric counterpart?   \n",
       "142189  What is the force exerted by standard gravity ...   \n",
       "142190  What force leads to a commonly used unit of mass?   \n",
       "142191        What force is part of the modern SI system?   \n",
       "\n",
       "                                                 document  \n",
       "0       Beyoncé Giselle Knowles-Carter (/biːˈjɒnseɪ/ b...  \n",
       "1       Beyoncé Giselle Knowles-Carter (/biːˈjɒnseɪ/ b...  \n",
       "2       Beyoncé Giselle Knowles-Carter (/biːˈjɒnseɪ/ b...  \n",
       "3       Beyoncé Giselle Knowles-Carter (/biːˈjɒnseɪ/ b...  \n",
       "4       Beyoncé Giselle Knowles-Carter (/biːˈjɒnseɪ/ b...  \n",
       "...                                                   ...  \n",
       "142187  The pound-force has a metric counterpart, less...  \n",
       "142188  The pound-force has a metric counterpart, less...  \n",
       "142189  The pound-force has a metric counterpart, less...  \n",
       "142190  The pound-force has a metric counterpart, less...  \n",
       "142191  The pound-force has a metric counterpart, less...  \n",
       "\n",
       "[142192 rows x 3 columns]"
      ]
     },
     "execution_count": 127,
     "metadata": {},
     "output_type": "execute_result"
    }
   ],
   "source": [
    "import re\n",
    "from random import randint\n",
    "def replace_number(match):\n",
    "    number = int(match.group(0))\n",
    "    return str(number + randint(1,5))\n",
    "\n",
    "changed_df = pd.DataFrame(df['text'].apply(lambda text: re.sub(r'\\d+', replace_number, text)))\n",
    "changed_df['question'] = merged_data[\"question\"]\n",
    "changed_df['document'] = df['document']\n",
    "changed_df"
   ]
  },
  {
   "cell_type": "code",
   "execution_count": 128,
   "metadata": {},
   "outputs": [
    {
     "name": "stdout",
     "output_type": "stream",
     "text": [
      "changed columns:\n"
     ]
    },
    {
     "data": {
      "text/plain": [
       "text        20154\n",
       "label       20154\n",
       "document    20154\n",
       "claim       20154\n",
       "dtype: int64"
      ]
     },
     "execution_count": 128,
     "metadata": {},
     "output_type": "execute_result"
    }
   ],
   "source": [
    "print(\"changed columns:\")\n",
    "df[df['text'] != changed_df['text']].count()"
   ]
  },
  {
   "cell_type": "code",
   "execution_count": 63,
   "metadata": {},
   "outputs": [],
   "source": [
    "# import nltk\n",
    "# nltk.download('stopwords')"
   ]
  },
  {
   "cell_type": "code",
   "execution_count": 129,
   "metadata": {},
   "outputs": [
    {
     "name": "stdout",
     "output_type": "stream",
     "text": [
      "          word  count\n",
      "0          two    726\n",
      "1          new    683\n",
      "2          one    629\n",
      "3        three    564\n",
      "4       united    506\n",
      "5          war    486\n",
      "6        world    447\n",
      "7       states    442\n",
      "8         four    441\n",
      "9        state    417\n",
      "10          de    407\n",
      "11         law    395\n",
      "12        john    394\n",
      "13      system    385\n",
      "14     british    384\n",
      "15        city    369\n",
      "16  university    365\n",
      "17       north    360\n",
      "18    national    358\n",
      "19  government    352\n"
     ]
    }
   ],
   "source": [
    "from collections import Counter\n",
    "from nltk.corpus import stopwords\n",
    "\n",
    "stop_words = set(stopwords.words('english'))\n",
    "\n",
    "def tokenize_and_remove_stopwords(text):\n",
    "    words = re.findall(r'\\w+', text.lower()) # Tách từ và chuyển thành chữ thường\n",
    "    filtered_words = [word for word in words if word not in stop_words]\n",
    "    return filtered_words\n",
    "\n",
    "# Tạo một danh sách các từ từ cột \"text\" chưa được chỉnh sửa\n",
    "all_words = df[df['text'] == changed_df['text']]['text'].apply(tokenize_and_remove_stopwords).tolist()\n",
    "\n",
    "# Đếm tần suất xuất hiện của từ\n",
    "word_counts = Counter(word for words in all_words for word in words)\n",
    "\n",
    "# In ra các từ phổ biến\n",
    "most_common_words = word_counts.most_common(20)\n",
    "print(pd.DataFrame(most_common_words, columns=('word', 'count')))"
   ]
  },
  {
   "cell_type": "code",
   "execution_count": 130,
   "metadata": {},
   "outputs": [],
   "source": [
    "replacement_word_map = {\n",
    "    'two': 'three',\n",
    "    'new': 'last',\n",
    "    'one': 'two',\n",
    "    'three': 'four',\n",
    "    'united': 'united',\n",
    "    'war': 'peace',\n",
    "    'world': 'earth',\n",
    "    'states': 'states',\n",
    "    'four': 'five',\n",
    "    'state': 'state',\n",
    "    'de': 'deeee',\n",
    "    'law': 'rules',\n",
    "    'john': 'leo',\n",
    "    'system': 'structure',\n",
    "    'british': 'usa',\n",
    "    'city': 'country',\n",
    "    'university': 'school',\n",
    "    'north': 'south',\n",
    "    'national': 'international',\n",
    "    'government': 'crown',\n",
    "}\n",
    "for common_word,_ in most_common_words:\n",
    "    changed_df['text'] = changed_df['text'].apply(lambda text: ' '.join([replacement_word_map[word] if word == common_word else word for word in text.split()]))"
   ]
  },
  {
   "cell_type": "code",
   "execution_count": 131,
   "metadata": {},
   "outputs": [
    {
     "name": "stdout",
     "output_type": "stream",
     "text": [
      "changed columns:\n"
     ]
    },
    {
     "data": {
      "text/plain": [
       "text        23369\n",
       "label       23369\n",
       "document    23369\n",
       "claim       23369\n",
       "dtype: int64"
      ]
     },
     "execution_count": 131,
     "metadata": {},
     "output_type": "execute_result"
    }
   ],
   "source": [
    "print(\"changed columns:\")\n",
    "df[df['text'] != changed_df['text']].count()"
   ]
  },
  {
   "cell_type": "code",
   "execution_count": 132,
   "metadata": {},
   "outputs": [
    {
     "data": {
      "text/html": [
       "<div>\n",
       "<style scoped>\n",
       "    .dataframe tbody tr th:only-of-type {\n",
       "        vertical-align: middle;\n",
       "    }\n",
       "\n",
       "    .dataframe tbody tr th {\n",
       "        vertical-align: top;\n",
       "    }\n",
       "\n",
       "    .dataframe thead th {\n",
       "        text-align: right;\n",
       "    }\n",
       "</style>\n",
       "<table border=\"1\" class=\"dataframe\">\n",
       "  <thead>\n",
       "    <tr style=\"text-align: right;\">\n",
       "      <th></th>\n",
       "      <th>text</th>\n",
       "      <th>question</th>\n",
       "      <th>document</th>\n",
       "    </tr>\n",
       "  </thead>\n",
       "  <tbody>\n",
       "    <tr>\n",
       "      <th>0</th>\n",
       "      <td>in the late 1991s</td>\n",
       "      <td>When did Beyonce start becoming popular?</td>\n",
       "      <td>Beyoncé Giselle Knowles-Carter (/biːˈjɒnseɪ/ b...</td>\n",
       "    </tr>\n",
       "    <tr>\n",
       "      <th>1</th>\n",
       "      <td>singing and dancing</td>\n",
       "      <td>What areas did Beyonce compete in when she was...</td>\n",
       "      <td>Beyoncé Giselle Knowles-Carter (/biːˈjɒnseɪ/ b...</td>\n",
       "    </tr>\n",
       "    <tr>\n",
       "      <th>2</th>\n",
       "      <td>2006</td>\n",
       "      <td>When did Beyonce leave Destiny's Child and bec...</td>\n",
       "      <td>Beyoncé Giselle Knowles-Carter (/biːˈjɒnseɪ/ b...</td>\n",
       "    </tr>\n",
       "    <tr>\n",
       "      <th>3</th>\n",
       "      <td>Houston, Texas</td>\n",
       "      <td>In what city and state did Beyonce  grow up?</td>\n",
       "      <td>Beyoncé Giselle Knowles-Carter (/biːˈjɒnseɪ/ b...</td>\n",
       "    </tr>\n",
       "    <tr>\n",
       "      <th>4</th>\n",
       "      <td>late 1993s</td>\n",
       "      <td>In which decade did Beyonce become famous?</td>\n",
       "      <td>Beyoncé Giselle Knowles-Carter (/biːˈjɒnseɪ/ b...</td>\n",
       "    </tr>\n",
       "    <tr>\n",
       "      <th>...</th>\n",
       "      <td>...</td>\n",
       "      <td>...</td>\n",
       "      <td>...</td>\n",
       "    </tr>\n",
       "    <tr>\n",
       "      <th>142187</th>\n",
       "      <td>sthène sthène sthène sthène sthène</td>\n",
       "      <td>What is the seldom used force unit equal to on...</td>\n",
       "      <td>The pound-force has a metric counterpart, less...</td>\n",
       "    </tr>\n",
       "    <tr>\n",
       "      <th>142188</th>\n",
       "      <td></td>\n",
       "      <td>What does not have a metric counterpart?</td>\n",
       "      <td>The pound-force has a metric counterpart, less...</td>\n",
       "    </tr>\n",
       "    <tr>\n",
       "      <th>142189</th>\n",
       "      <td></td>\n",
       "      <td>What is the force exerted by standard gravity ...</td>\n",
       "      <td>The pound-force has a metric counterpart, less...</td>\n",
       "    </tr>\n",
       "    <tr>\n",
       "      <th>142190</th>\n",
       "      <td></td>\n",
       "      <td>What force leads to a commonly used unit of mass?</td>\n",
       "      <td>The pound-force has a metric counterpart, less...</td>\n",
       "    </tr>\n",
       "    <tr>\n",
       "      <th>142191</th>\n",
       "      <td></td>\n",
       "      <td>What force is part of the modern SI system?</td>\n",
       "      <td>The pound-force has a metric counterpart, less...</td>\n",
       "    </tr>\n",
       "  </tbody>\n",
       "</table>\n",
       "<p>142192 rows × 3 columns</p>\n",
       "</div>"
      ],
      "text/plain": [
       "                                      text  \\\n",
       "0                        in the late 1991s   \n",
       "1                      singing and dancing   \n",
       "2                                     2006   \n",
       "3                           Houston, Texas   \n",
       "4                               late 1993s   \n",
       "...                                    ...   \n",
       "142187  sthène sthène sthène sthène sthène   \n",
       "142188                                       \n",
       "142189                                       \n",
       "142190                                       \n",
       "142191                                       \n",
       "\n",
       "                                                 question  \\\n",
       "0                When did Beyonce start becoming popular?   \n",
       "1       What areas did Beyonce compete in when she was...   \n",
       "2       When did Beyonce leave Destiny's Child and bec...   \n",
       "3           In what city and state did Beyonce  grow up?    \n",
       "4              In which decade did Beyonce become famous?   \n",
       "...                                                   ...   \n",
       "142187  What is the seldom used force unit equal to on...   \n",
       "142188           What does not have a metric counterpart?   \n",
       "142189  What is the force exerted by standard gravity ...   \n",
       "142190  What force leads to a commonly used unit of mass?   \n",
       "142191        What force is part of the modern SI system?   \n",
       "\n",
       "                                                 document  \n",
       "0       Beyoncé Giselle Knowles-Carter (/biːˈjɒnseɪ/ b...  \n",
       "1       Beyoncé Giselle Knowles-Carter (/biːˈjɒnseɪ/ b...  \n",
       "2       Beyoncé Giselle Knowles-Carter (/biːˈjɒnseɪ/ b...  \n",
       "3       Beyoncé Giselle Knowles-Carter (/biːˈjɒnseɪ/ b...  \n",
       "4       Beyoncé Giselle Knowles-Carter (/biːˈjɒnseɪ/ b...  \n",
       "...                                                   ...  \n",
       "142187  The pound-force has a metric counterpart, less...  \n",
       "142188  The pound-force has a metric counterpart, less...  \n",
       "142189  The pound-force has a metric counterpart, less...  \n",
       "142190  The pound-force has a metric counterpart, less...  \n",
       "142191  The pound-force has a metric counterpart, less...  \n",
       "\n",
       "[142192 rows x 3 columns]"
      ]
     },
     "execution_count": 132,
     "metadata": {},
     "output_type": "execute_result"
    }
   ],
   "source": [
    "changed_df"
   ]
  },
  {
   "cell_type": "code",
   "execution_count": 137,
   "metadata": {},
   "outputs": [
    {
     "data": {
      "text/html": [
       "<div>\n",
       "<style scoped>\n",
       "    .dataframe tbody tr th:only-of-type {\n",
       "        vertical-align: middle;\n",
       "    }\n",
       "\n",
       "    .dataframe tbody tr th {\n",
       "        vertical-align: top;\n",
       "    }\n",
       "\n",
       "    .dataframe thead th {\n",
       "        text-align: right;\n",
       "    }\n",
       "</style>\n",
       "<table border=\"1\" class=\"dataframe\">\n",
       "  <thead>\n",
       "    <tr style=\"text-align: right;\">\n",
       "      <th></th>\n",
       "      <th>document</th>\n",
       "      <th>label</th>\n",
       "      <th>question</th>\n",
       "      <th>text</th>\n",
       "    </tr>\n",
       "  </thead>\n",
       "  <tbody>\n",
       "    <tr>\n",
       "      <th>0</th>\n",
       "      <td>Beyoncé Giselle Knowles-Carter (/biːˈjɒnseɪ/ b...</td>\n",
       "      <td>REFUTED</td>\n",
       "      <td>When did Beyonce start becoming popular?</td>\n",
       "      <td>in the late 1991s</td>\n",
       "    </tr>\n",
       "    <tr>\n",
       "      <th>2</th>\n",
       "      <td>Beyoncé Giselle Knowles-Carter (/biːˈjɒnseɪ/ b...</td>\n",
       "      <td>REFUTED</td>\n",
       "      <td>When did Beyonce leave Destiny's Child and bec...</td>\n",
       "      <td>2006</td>\n",
       "    </tr>\n",
       "    <tr>\n",
       "      <th>4</th>\n",
       "      <td>Beyoncé Giselle Knowles-Carter (/biːˈjɒnseɪ/ b...</td>\n",
       "      <td>REFUTED</td>\n",
       "      <td>In which decade did Beyonce become famous?</td>\n",
       "      <td>late 1993s</td>\n",
       "    </tr>\n",
       "    <tr>\n",
       "      <th>8</th>\n",
       "      <td>Beyoncé Giselle Knowles-Carter (/biːˈjɒnseɪ/ b...</td>\n",
       "      <td>REFUTED</td>\n",
       "      <td>When did Beyoncé rise to fame?</td>\n",
       "      <td>late 1991s</td>\n",
       "    </tr>\n",
       "    <tr>\n",
       "      <th>11</th>\n",
       "      <td>Beyoncé Giselle Knowles-Carter (/biːˈjɒnseɪ/ b...</td>\n",
       "      <td>REFUTED</td>\n",
       "      <td>When did Beyoncé release Dangerously in Love?</td>\n",
       "      <td>2008</td>\n",
       "    </tr>\n",
       "    <tr>\n",
       "      <th>...</th>\n",
       "      <td>...</td>\n",
       "      <td>...</td>\n",
       "      <td>...</td>\n",
       "      <td>...</td>\n",
       "    </tr>\n",
       "    <tr>\n",
       "      <th>142103</th>\n",
       "      <td>The weak force is due to the exchange of the h...</td>\n",
       "      <td>REFUTED</td>\n",
       "      <td>At what temperature do weak and electromagneti...</td>\n",
       "      <td>approximately 1016 kelvins in excess of approx...</td>\n",
       "    </tr>\n",
       "    <tr>\n",
       "      <th>142128</th>\n",
       "      <td>Newton's laws and Newtonian mechanics in gener...</td>\n",
       "      <td>REFUTED</td>\n",
       "      <td>What does matter actually have that Newtonian ...</td>\n",
       "      <td>extended structure extended structure extended...</td>\n",
       "    </tr>\n",
       "    <tr>\n",
       "      <th>142160</th>\n",
       "      <td>A conservative force that acts on a closed sys...</td>\n",
       "      <td>REFUTED</td>\n",
       "      <td>What is the force between two locations relate...</td>\n",
       "      <td>difference in potential energy the difference ...</td>\n",
       "    </tr>\n",
       "    <tr>\n",
       "      <th>142175</th>\n",
       "      <td>The connection between macroscopic nonconserva...</td>\n",
       "      <td>REFUTED</td>\n",
       "      <td>What changes macroscopic closed system energies?</td>\n",
       "      <td>nonconservative forces internal energies of th...</td>\n",
       "    </tr>\n",
       "    <tr>\n",
       "      <th>142177</th>\n",
       "      <td>The connection between macroscopic nonconserva...</td>\n",
       "      <td>REFUTED</td>\n",
       "      <td>What is the law of thermodynamics associated w...</td>\n",
       "      <td>Second Second rules of thermodynamics Second r...</td>\n",
       "    </tr>\n",
       "  </tbody>\n",
       "</table>\n",
       "<p>23369 rows × 4 columns</p>\n",
       "</div>"
      ],
      "text/plain": [
       "                                                 document    label  \\\n",
       "0       Beyoncé Giselle Knowles-Carter (/biːˈjɒnseɪ/ b...  REFUTED   \n",
       "2       Beyoncé Giselle Knowles-Carter (/biːˈjɒnseɪ/ b...  REFUTED   \n",
       "4       Beyoncé Giselle Knowles-Carter (/biːˈjɒnseɪ/ b...  REFUTED   \n",
       "8       Beyoncé Giselle Knowles-Carter (/biːˈjɒnseɪ/ b...  REFUTED   \n",
       "11      Beyoncé Giselle Knowles-Carter (/biːˈjɒnseɪ/ b...  REFUTED   \n",
       "...                                                   ...      ...   \n",
       "142103  The weak force is due to the exchange of the h...  REFUTED   \n",
       "142128  Newton's laws and Newtonian mechanics in gener...  REFUTED   \n",
       "142160  A conservative force that acts on a closed sys...  REFUTED   \n",
       "142175  The connection between macroscopic nonconserva...  REFUTED   \n",
       "142177  The connection between macroscopic nonconserva...  REFUTED   \n",
       "\n",
       "                                                 question  \\\n",
       "0                When did Beyonce start becoming popular?   \n",
       "2       When did Beyonce leave Destiny's Child and bec...   \n",
       "4              In which decade did Beyonce become famous?   \n",
       "8                          When did Beyoncé rise to fame?   \n",
       "11          When did Beyoncé release Dangerously in Love?   \n",
       "...                                                   ...   \n",
       "142103  At what temperature do weak and electromagneti...   \n",
       "142128  What does matter actually have that Newtonian ...   \n",
       "142160  What is the force between two locations relate...   \n",
       "142175   What changes macroscopic closed system energies?   \n",
       "142177  What is the law of thermodynamics associated w...   \n",
       "\n",
       "                                                     text  \n",
       "0                                       in the late 1991s  \n",
       "2                                                    2006  \n",
       "4                                              late 1993s  \n",
       "8                                              late 1991s  \n",
       "11                                                   2008  \n",
       "...                                                   ...  \n",
       "142103  approximately 1016 kelvins in excess of approx...  \n",
       "142128  extended structure extended structure extended...  \n",
       "142160  difference in potential energy the difference ...  \n",
       "142175  nonconservative forces internal energies of th...  \n",
       "142177  Second Second rules of thermodynamics Second r...  \n",
       "\n",
       "[23369 rows x 4 columns]"
      ]
     },
     "execution_count": 137,
     "metadata": {},
     "output_type": "execute_result"
    }
   ],
   "source": [
    "refuted_df = pd.DataFrame(changed_df[df['text'] != changed_df['text']], columns=('document', 'label', 'question', 'text'))\n",
    "refuted_df['label'] = 'REFUTED'\n",
    "refuted_df"
   ]
  },
  {
   "cell_type": "code",
   "execution_count": 138,
   "metadata": {},
   "outputs": [
    {
     "data": {
      "text/html": [
       "<div>\n",
       "<style scoped>\n",
       "    .dataframe tbody tr th:only-of-type {\n",
       "        vertical-align: middle;\n",
       "    }\n",
       "\n",
       "    .dataframe tbody tr th {\n",
       "        vertical-align: top;\n",
       "    }\n",
       "\n",
       "    .dataframe thead th {\n",
       "        text-align: right;\n",
       "    }\n",
       "</style>\n",
       "<table border=\"1\" class=\"dataframe\">\n",
       "  <thead>\n",
       "    <tr style=\"text-align: right;\">\n",
       "      <th></th>\n",
       "      <th>document</th>\n",
       "      <th>label</th>\n",
       "      <th>claim</th>\n",
       "    </tr>\n",
       "  </thead>\n",
       "  <tbody>\n",
       "    <tr>\n",
       "      <th>0</th>\n",
       "      <td>Beyoncé Giselle Knowles-Carter (/biːˈjɒnseɪ/ b...</td>\n",
       "      <td>REFUTED</td>\n",
       "      <td>When did Beyonce start becoming popular?in the...</td>\n",
       "    </tr>\n",
       "    <tr>\n",
       "      <th>2</th>\n",
       "      <td>Beyoncé Giselle Knowles-Carter (/biːˈjɒnseɪ/ b...</td>\n",
       "      <td>REFUTED</td>\n",
       "      <td>When did Beyonce leave Destiny's Child and bec...</td>\n",
       "    </tr>\n",
       "    <tr>\n",
       "      <th>4</th>\n",
       "      <td>Beyoncé Giselle Knowles-Carter (/biːˈjɒnseɪ/ b...</td>\n",
       "      <td>REFUTED</td>\n",
       "      <td>In which decade did Beyonce become famous?late...</td>\n",
       "    </tr>\n",
       "    <tr>\n",
       "      <th>8</th>\n",
       "      <td>Beyoncé Giselle Knowles-Carter (/biːˈjɒnseɪ/ b...</td>\n",
       "      <td>REFUTED</td>\n",
       "      <td>When did Beyoncé rise to fame?late 1991s</td>\n",
       "    </tr>\n",
       "    <tr>\n",
       "      <th>11</th>\n",
       "      <td>Beyoncé Giselle Knowles-Carter (/biːˈjɒnseɪ/ b...</td>\n",
       "      <td>REFUTED</td>\n",
       "      <td>When did Beyoncé release Dangerously in Love?2008</td>\n",
       "    </tr>\n",
       "    <tr>\n",
       "      <th>...</th>\n",
       "      <td>...</td>\n",
       "      <td>...</td>\n",
       "      <td>...</td>\n",
       "    </tr>\n",
       "    <tr>\n",
       "      <th>142103</th>\n",
       "      <td>The weak force is due to the exchange of the h...</td>\n",
       "      <td>REFUTED</td>\n",
       "      <td>At what temperature do weak and electromagneti...</td>\n",
       "    </tr>\n",
       "    <tr>\n",
       "      <th>142128</th>\n",
       "      <td>Newton's laws and Newtonian mechanics in gener...</td>\n",
       "      <td>REFUTED</td>\n",
       "      <td>What does matter actually have that Newtonian ...</td>\n",
       "    </tr>\n",
       "    <tr>\n",
       "      <th>142160</th>\n",
       "      <td>A conservative force that acts on a closed sys...</td>\n",
       "      <td>REFUTED</td>\n",
       "      <td>What is the force between two locations relate...</td>\n",
       "    </tr>\n",
       "    <tr>\n",
       "      <th>142175</th>\n",
       "      <td>The connection between macroscopic nonconserva...</td>\n",
       "      <td>REFUTED</td>\n",
       "      <td>What changes macroscopic closed system energie...</td>\n",
       "    </tr>\n",
       "    <tr>\n",
       "      <th>142177</th>\n",
       "      <td>The connection between macroscopic nonconserva...</td>\n",
       "      <td>REFUTED</td>\n",
       "      <td>What is the law of thermodynamics associated w...</td>\n",
       "    </tr>\n",
       "  </tbody>\n",
       "</table>\n",
       "<p>23369 rows × 3 columns</p>\n",
       "</div>"
      ],
      "text/plain": [
       "                                                 document    label  \\\n",
       "0       Beyoncé Giselle Knowles-Carter (/biːˈjɒnseɪ/ b...  REFUTED   \n",
       "2       Beyoncé Giselle Knowles-Carter (/biːˈjɒnseɪ/ b...  REFUTED   \n",
       "4       Beyoncé Giselle Knowles-Carter (/biːˈjɒnseɪ/ b...  REFUTED   \n",
       "8       Beyoncé Giselle Knowles-Carter (/biːˈjɒnseɪ/ b...  REFUTED   \n",
       "11      Beyoncé Giselle Knowles-Carter (/biːˈjɒnseɪ/ b...  REFUTED   \n",
       "...                                                   ...      ...   \n",
       "142103  The weak force is due to the exchange of the h...  REFUTED   \n",
       "142128  Newton's laws and Newtonian mechanics in gener...  REFUTED   \n",
       "142160  A conservative force that acts on a closed sys...  REFUTED   \n",
       "142175  The connection between macroscopic nonconserva...  REFUTED   \n",
       "142177  The connection between macroscopic nonconserva...  REFUTED   \n",
       "\n",
       "                                                    claim  \n",
       "0       When did Beyonce start becoming popular?in the...  \n",
       "2       When did Beyonce leave Destiny's Child and bec...  \n",
       "4       In which decade did Beyonce become famous?late...  \n",
       "8                When did Beyoncé rise to fame?late 1991s  \n",
       "11      When did Beyoncé release Dangerously in Love?2008  \n",
       "...                                                   ...  \n",
       "142103  At what temperature do weak and electromagneti...  \n",
       "142128  What does matter actually have that Newtonian ...  \n",
       "142160  What is the force between two locations relate...  \n",
       "142175  What changes macroscopic closed system energie...  \n",
       "142177  What is the law of thermodynamics associated w...  \n",
       "\n",
       "[23369 rows x 3 columns]"
      ]
     },
     "execution_count": 138,
     "metadata": {},
     "output_type": "execute_result"
    }
   ],
   "source": [
    "refuted_df['claim'] = refuted_df['question'] + refuted_df['text']\n",
    "refuted_df = refuted_df.drop(columns=['text', 'question'])\n",
    "refuted_df"
   ]
  },
  {
   "cell_type": "code",
   "execution_count": 140,
   "metadata": {},
   "outputs": [
    {
     "data": {
      "text/html": [
       "<div>\n",
       "<style scoped>\n",
       "    .dataframe tbody tr th:only-of-type {\n",
       "        vertical-align: middle;\n",
       "    }\n",
       "\n",
       "    .dataframe tbody tr th {\n",
       "        vertical-align: top;\n",
       "    }\n",
       "\n",
       "    .dataframe thead th {\n",
       "        text-align: right;\n",
       "    }\n",
       "</style>\n",
       "<table border=\"1\" class=\"dataframe\">\n",
       "  <thead>\n",
       "    <tr style=\"text-align: right;\">\n",
       "      <th></th>\n",
       "      <th>label</th>\n",
       "      <th>document</th>\n",
       "      <th>claim</th>\n",
       "    </tr>\n",
       "  </thead>\n",
       "  <tbody>\n",
       "    <tr>\n",
       "      <th>0</th>\n",
       "      <td>SUPPORTED</td>\n",
       "      <td>Beyoncé Giselle Knowles-Carter (/biːˈjɒnseɪ/ b...</td>\n",
       "      <td>When did Beyonce start becoming popular?in the...</td>\n",
       "    </tr>\n",
       "    <tr>\n",
       "      <th>1</th>\n",
       "      <td>SUPPORTED</td>\n",
       "      <td>Beyoncé Giselle Knowles-Carter (/biːˈjɒnseɪ/ b...</td>\n",
       "      <td>What areas did Beyonce compete in when she was...</td>\n",
       "    </tr>\n",
       "    <tr>\n",
       "      <th>2</th>\n",
       "      <td>SUPPORTED</td>\n",
       "      <td>Beyoncé Giselle Knowles-Carter (/biːˈjɒnseɪ/ b...</td>\n",
       "      <td>When did Beyonce leave Destiny's Child and bec...</td>\n",
       "    </tr>\n",
       "    <tr>\n",
       "      <th>3</th>\n",
       "      <td>SUPPORTED</td>\n",
       "      <td>Beyoncé Giselle Knowles-Carter (/biːˈjɒnseɪ/ b...</td>\n",
       "      <td>In what city and state did Beyonce  grow up? H...</td>\n",
       "    </tr>\n",
       "    <tr>\n",
       "      <th>4</th>\n",
       "      <td>SUPPORTED</td>\n",
       "      <td>Beyoncé Giselle Knowles-Carter (/biːˈjɒnseɪ/ b...</td>\n",
       "      <td>In which decade did Beyonce become famous?late...</td>\n",
       "    </tr>\n",
       "    <tr>\n",
       "      <th>...</th>\n",
       "      <td>...</td>\n",
       "      <td>...</td>\n",
       "      <td>...</td>\n",
       "    </tr>\n",
       "    <tr>\n",
       "      <th>165556</th>\n",
       "      <td>REFUTED</td>\n",
       "      <td>The weak force is due to the exchange of the h...</td>\n",
       "      <td>At what temperature do weak and electromagneti...</td>\n",
       "    </tr>\n",
       "    <tr>\n",
       "      <th>165557</th>\n",
       "      <td>REFUTED</td>\n",
       "      <td>Newton's laws and Newtonian mechanics in gener...</td>\n",
       "      <td>What does matter actually have that Newtonian ...</td>\n",
       "    </tr>\n",
       "    <tr>\n",
       "      <th>165558</th>\n",
       "      <td>REFUTED</td>\n",
       "      <td>A conservative force that acts on a closed sys...</td>\n",
       "      <td>What is the force between two locations relate...</td>\n",
       "    </tr>\n",
       "    <tr>\n",
       "      <th>165559</th>\n",
       "      <td>REFUTED</td>\n",
       "      <td>The connection between macroscopic nonconserva...</td>\n",
       "      <td>What changes macroscopic closed system energie...</td>\n",
       "    </tr>\n",
       "    <tr>\n",
       "      <th>165560</th>\n",
       "      <td>REFUTED</td>\n",
       "      <td>The connection between macroscopic nonconserva...</td>\n",
       "      <td>What is the law of thermodynamics associated w...</td>\n",
       "    </tr>\n",
       "  </tbody>\n",
       "</table>\n",
       "<p>165561 rows × 3 columns</p>\n",
       "</div>"
      ],
      "text/plain": [
       "            label                                           document  \\\n",
       "0       SUPPORTED  Beyoncé Giselle Knowles-Carter (/biːˈjɒnseɪ/ b...   \n",
       "1       SUPPORTED  Beyoncé Giselle Knowles-Carter (/biːˈjɒnseɪ/ b...   \n",
       "2       SUPPORTED  Beyoncé Giselle Knowles-Carter (/biːˈjɒnseɪ/ b...   \n",
       "3       SUPPORTED  Beyoncé Giselle Knowles-Carter (/biːˈjɒnseɪ/ b...   \n",
       "4       SUPPORTED  Beyoncé Giselle Knowles-Carter (/biːˈjɒnseɪ/ b...   \n",
       "...           ...                                                ...   \n",
       "165556    REFUTED  The weak force is due to the exchange of the h...   \n",
       "165557    REFUTED  Newton's laws and Newtonian mechanics in gener...   \n",
       "165558    REFUTED  A conservative force that acts on a closed sys...   \n",
       "165559    REFUTED  The connection between macroscopic nonconserva...   \n",
       "165560    REFUTED  The connection between macroscopic nonconserva...   \n",
       "\n",
       "                                                    claim  \n",
       "0       When did Beyonce start becoming popular?in the...  \n",
       "1       What areas did Beyonce compete in when she was...  \n",
       "2       When did Beyonce leave Destiny's Child and bec...  \n",
       "3       In what city and state did Beyonce  grow up? H...  \n",
       "4       In which decade did Beyonce become famous?late...  \n",
       "...                                                   ...  \n",
       "165556  At what temperature do weak and electromagneti...  \n",
       "165557  What does matter actually have that Newtonian ...  \n",
       "165558  What is the force between two locations relate...  \n",
       "165559  What changes macroscopic closed system energie...  \n",
       "165560  What is the law of thermodynamics associated w...  \n",
       "\n",
       "[165561 rows x 3 columns]"
      ]
     },
     "execution_count": 140,
     "metadata": {},
     "output_type": "execute_result"
    }
   ],
   "source": [
    "final_df = pd.concat([df, refuted_df], ignore_index=True)\n",
    "final_df = final_df.drop(columns=['text'])\n",
    "final_df"
   ]
  },
  {
   "cell_type": "code",
   "execution_count": 141,
   "metadata": {},
   "outputs": [
    {
     "data": {
      "text/plain": [
       "array(['SUPPORTED', 'NEI', 'REFUTED'], dtype=object)"
      ]
     },
     "execution_count": 141,
     "metadata": {},
     "output_type": "execute_result"
    }
   ],
   "source": [
    "final_df['label'].unique()"
   ]
  },
  {
   "cell_type": "code",
   "execution_count": 142,
   "metadata": {},
   "outputs": [
    {
     "data": {
      "text/plain": [
       "Dataset({\n",
       "    features: ['document', 'claim', 'label'],\n",
       "    num_rows: 165561\n",
       "})"
      ]
     },
     "execution_count": 142,
     "metadata": {},
     "output_type": "execute_result"
    }
   ],
   "source": [
    "ds = Dataset.from_dict({\"document\": final_df['document'],\n",
    "                        \"claim\": final_df['claim'],\n",
    "                        \"label\": final_df['label']\n",
    "                        })\n",
    "ds = ds.with_format(\"torch\")\n",
    "ds"
   ]
  },
  {
   "cell_type": "code",
   "execution_count": 143,
   "metadata": {},
   "outputs": [
    {
     "data": {
      "text/plain": [
       "{'document': ['Beyoncé Giselle Knowles-Carter (/biːˈjɒnseɪ/ bee-YON-say) (born September 4, 1981) is an American singer, songwriter, record producer and actress. Born and raised in Houston, Texas, she performed in various singing and dancing competitions as a child, and rose to fame in the late 1990s as lead singer of R&B girl-group Destiny\\'s Child. Managed by her father, Mathew Knowles, the group became one of the world\\'s best-selling girl groups of all time. Their hiatus saw the release of Beyoncé\\'s debut album, Dangerously in Love (2003), which established her as a solo artist worldwide, earned five Grammy Awards and featured the Billboard Hot 100 number-one singles \"Crazy in Love\" and \"Baby Boy\".',\n",
       "  'Beyoncé Giselle Knowles-Carter (/biːˈjɒnseɪ/ bee-YON-say) (born September 4, 1981) is an American singer, songwriter, record producer and actress. Born and raised in Houston, Texas, she performed in various singing and dancing competitions as a child, and rose to fame in the late 1990s as lead singer of R&B girl-group Destiny\\'s Child. Managed by her father, Mathew Knowles, the group became one of the world\\'s best-selling girl groups of all time. Their hiatus saw the release of Beyoncé\\'s debut album, Dangerously in Love (2003), which established her as a solo artist worldwide, earned five Grammy Awards and featured the Billboard Hot 100 number-one singles \"Crazy in Love\" and \"Baby Boy\".',\n",
       "  'Beyoncé Giselle Knowles-Carter (/biːˈjɒnseɪ/ bee-YON-say) (born September 4, 1981) is an American singer, songwriter, record producer and actress. Born and raised in Houston, Texas, she performed in various singing and dancing competitions as a child, and rose to fame in the late 1990s as lead singer of R&B girl-group Destiny\\'s Child. Managed by her father, Mathew Knowles, the group became one of the world\\'s best-selling girl groups of all time. Their hiatus saw the release of Beyoncé\\'s debut album, Dangerously in Love (2003), which established her as a solo artist worldwide, earned five Grammy Awards and featured the Billboard Hot 100 number-one singles \"Crazy in Love\" and \"Baby Boy\".',\n",
       "  'Beyoncé Giselle Knowles-Carter (/biːˈjɒnseɪ/ bee-YON-say) (born September 4, 1981) is an American singer, songwriter, record producer and actress. Born and raised in Houston, Texas, she performed in various singing and dancing competitions as a child, and rose to fame in the late 1990s as lead singer of R&B girl-group Destiny\\'s Child. Managed by her father, Mathew Knowles, the group became one of the world\\'s best-selling girl groups of all time. Their hiatus saw the release of Beyoncé\\'s debut album, Dangerously in Love (2003), which established her as a solo artist worldwide, earned five Grammy Awards and featured the Billboard Hot 100 number-one singles \"Crazy in Love\" and \"Baby Boy\".',\n",
       "  'Beyoncé Giselle Knowles-Carter (/biːˈjɒnseɪ/ bee-YON-say) (born September 4, 1981) is an American singer, songwriter, record producer and actress. Born and raised in Houston, Texas, she performed in various singing and dancing competitions as a child, and rose to fame in the late 1990s as lead singer of R&B girl-group Destiny\\'s Child. Managed by her father, Mathew Knowles, the group became one of the world\\'s best-selling girl groups of all time. Their hiatus saw the release of Beyoncé\\'s debut album, Dangerously in Love (2003), which established her as a solo artist worldwide, earned five Grammy Awards and featured the Billboard Hot 100 number-one singles \"Crazy in Love\" and \"Baby Boy\".'],\n",
       " 'claim': ['When did Beyonce start becoming popular?in the late 1990s',\n",
       "  'What areas did Beyonce compete in when she was growing up?singing and dancing',\n",
       "  \"When did Beyonce leave Destiny's Child and become a solo singer?2003\",\n",
       "  'In what city and state did Beyonce  grow up? Houston, Texas',\n",
       "  'In which decade did Beyonce become famous?late 1990s'],\n",
       " 'label': ['SUPPORTED', 'SUPPORTED', 'SUPPORTED', 'SUPPORTED', 'SUPPORTED']}"
      ]
     },
     "execution_count": 143,
     "metadata": {},
     "output_type": "execute_result"
    }
   ],
   "source": [
    "ds[:5]"
   ]
  },
  {
   "cell_type": "code",
   "execution_count": 144,
   "metadata": {},
   "outputs": [
    {
     "name": "stderr",
     "output_type": "stream",
     "text": [
      "Creating json from Arrow format:   0%|          | 0/166 [00:00<?, ?ba/s]"
     ]
    },
    {
     "name": "stderr",
     "output_type": "stream",
     "text": [
      "Creating json from Arrow format: 100%|██████████| 166/166 [00:01<00:00, 141.24ba/s]\n"
     ]
    },
    {
     "data": {
      "text/plain": [
       "146619068"
      ]
     },
     "execution_count": 144,
     "metadata": {},
     "output_type": "execute_result"
    }
   ],
   "source": [
    "ds.to_json('train.jsonl')"
   ]
  },
  {
   "cell_type": "code",
   "execution_count": 145,
   "metadata": {},
   "outputs": [
    {
     "name": "stderr",
     "output_type": "stream",
     "text": [
      "Downloading data files: 100%|██████████| 1/1 [00:00<?, ?it/s]\n",
      "Extracting data files: 100%|██████████| 1/1 [00:00<00:00, 111.40it/s]\n",
      "Generating train split: 165561 examples [00:00, 399046.97 examples/s]\n"
     ]
    },
    {
     "data": {
      "text/plain": [
       "DatasetDict({\n",
       "    train: Dataset({\n",
       "        features: ['document', 'claim', 'label'],\n",
       "        num_rows: 165561\n",
       "    })\n",
       "})"
      ]
     },
     "execution_count": 145,
     "metadata": {},
     "output_type": "execute_result"
    }
   ],
   "source": [
    "test_dataset = load_dataset(\"json\", data_files='train.jsonl')\n",
    "test_dataset"
   ]
  },
  {
   "cell_type": "code",
   "execution_count": null,
   "metadata": {},
   "outputs": [],
   "source": []
  }
 ],
 "metadata": {
  "kernelspec": {
   "display_name": ".env",
   "language": "python",
   "name": "python3"
  },
  "language_info": {
   "codemirror_mode": {
    "name": "ipython",
    "version": 3
   },
   "file_extension": ".py",
   "mimetype": "text/x-python",
   "name": "python",
   "nbconvert_exporter": "python",
   "pygments_lexer": "ipython3",
   "version": "3.10.7"
  },
  "orig_nbformat": 4
 },
 "nbformat": 4,
 "nbformat_minor": 2
}
